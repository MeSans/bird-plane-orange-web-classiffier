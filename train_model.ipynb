{
 "cells": [
  {
   "cell_type": "code",
   "execution_count": 24,
   "metadata": {},
   "outputs": [],
   "source": [
    "import numpy as np\n",
    "from keras.models import Sequential\n",
    "from keras.layers import Dense, Dropout, Activation, Flatten, Convolution2D, MaxPooling2D\n",
    "from keras.utils import np_utils\n",
    "from keras.datasets import mnist\n",
    "from PIL import Image\n",
    "import utils\n",
    "from matplotlib import pyplot as plt\n",
    "from sklearn.model_selection import train_test_split\n",
    "import pandas as pd\n",
    "\n",
    "import glob"
   ]
  },
  {
   "cell_type": "code",
   "execution_count": 2,
   "metadata": {},
   "outputs": [],
   "source": [
    "# Loads in the images, rescales them to 100x100 and grayscales them.\n",
    "# TODO: Replace absolute paths with relative ones or at least point to the dropbox folder\n",
    "bird_x = utils.load_and_preprocess_images('/home/patriks/Desktop/bird-plane-orange-web-classiffier/datasets/dumped_birds/*.jpg')\n",
    "plane_x = utils.load_and_preprocess_images('/home/patriks/Desktop/bird-plane-orange-web-classiffier/datasets/airplanes_raw/*.jpg')\n",
    "orange_x = utils.load_and_preprocess_images('/home/patriks/Desktop/bird-plane-orange-web-classiffier/datasets/oranges_raw/*.jpg')"
   ]
  },
  {
   "cell_type": "code",
   "execution_count": 23,
   "metadata": {},
   "outputs": [],
   "source": [
    "# Create three lists of n elements, where n = the count of examples in the class.\n",
    "bird_y = np.empty(bird_x.shape[0])\n",
    "bird_y.fill(0)\n",
    "plane_y = np.empty(plane_x.shape[0])\n",
    "plane_y.fill(1)\n",
    "orange_y = np.empty(orange_x.shape[0])\n",
    "orange_y.fill(2)\n",
    "\n",
    "# Add all the examples together into np arrays of x's and y's. They are still corresponding to each other at this point.\n",
    "x = np.concatenate((bird_x, plane_x, orange_x))\n",
    "y = np.concatenate((bird_y, plane_y, orange_y))\n",
    "# utils.showImage(x[999])"
   ]
  },
  {
   "cell_type": "code",
   "execution_count": 27,
   "metadata": {},
   "outputs": [],
   "source": [
    "# shuffle and split into training and test data sets\n",
    "X_train, X_test, Y_train, Y_test = train_test_split(x, y, test_size=0.30,random_state=42)\n",
    "\n",
    "#Explicitly adding the second parameter (depth)\n",
    "X_train = X_train.reshape(X_train.shape[0], 100, 100, 1)\n",
    "X_test = X_test.reshape(X_test.shape[0], 100, 100, 1)\n",
    "#\n",
    "# Conver to floats so the normalization division by max value works as you would expect\n",
    "X_train = X_train.astype('float32')\n",
    "X_test = X_test.astype('float32')\n",
    "\n",
    "# Normalize\n",
    "# Normally datasets values range from 0 to 255. By dividing by max we get values\n",
    "# between 0 and 1. neato.\n",
    "X_train /= 255\n",
    "X_test /= 255\n",
    "\n",
    "# Convert our label to one-hot encoding\n",
    "# vectors with the correct class having 1 and the rest having 0\n",
    "Y_train = np_utils.to_categorical(Y_train,3)\n",
    "Y_test = np_utils.to_categorical(Y_test, 3)\n"
   ]
  },
  {
   "cell_type": "code",
   "execution_count": 28,
   "metadata": {},
   "outputs": [],
   "source": [
    "model = Sequential()\n",
    "# First input layer. A lot going on here, so let me explain.\n",
    "# First argument is how many kernel filters to use.(wtf is a kernel filter btw?)\n",
    "# Second two int tuple defines the X and Y sizes of the kernels\n",
    "# Activation defines the activation function\n",
    "# input shape defines the X and Y sizes of our input images and 1 defines the depth\n",
    "# depth is colour channels. Here we just have one, but for rgb it would be 3\n",
    "model.add(Convolution2D(32, (3, 3), activation='relu', input_shape=(100,100,1)))\n",
    "\n",
    "model.add(Convolution2D(32, (3,3), activation='relu'))\n",
    "# Pooling layer. Remember how we just find the largest values of some part?\n",
    "# This is it. Reduces amount of parameters of our network\n",
    "model.add(MaxPooling2D(pool_size=(2, 2)))\n",
    "# Dropout is for regulization. This disable some neurons some of the time so\n",
    "# the model \"Learns\" ho to get good results even without part of itself\n",
    "model.add(Dropout(0.25))\n",
    "# Squish into a 1d vector so we have a nice input for our dense layers.\n",
    "model.add(Flatten())\n",
    "model.add(Dense(128, activation='relu'))\n",
    "model.add(Dropout(0.25))\n",
    "model.add(Dense(3, activation='softmax'))\n",
    "\n",
    "model.compile(loss='categorical_crossentropy',\n",
    "optimizer='adam', metrics=['accuracy'])\n"
   ]
  },
  {
   "cell_type": "code",
   "execution_count": 29,
   "metadata": {},
   "outputs": [
    {
     "name": "stderr",
     "output_type": "stream",
     "text": [
      "/usr/lib/python3.6/site-packages/keras/models.py:944: UserWarning: The `nb_epoch` argument in `fit` has been renamed `epochs`.\n",
      "  warnings.warn('The `nb_epoch` argument in `fit` '\n"
     ]
    },
    {
     "name": "stdout",
     "output_type": "stream",
     "text": [
      "Epoch 1/10\n",
      "2106/2106 [==============================] - 117s 56ms/step - loss: 0.8735 - acc: 0.6928\n",
      "Epoch 2/10\n",
      "2106/2106 [==============================] - 112s 53ms/step - loss: 0.3785 - acc: 0.8523\n",
      "Epoch 3/10\n",
      "2106/2106 [==============================] - 112s 53ms/step - loss: 0.2618 - acc: 0.8989\n",
      "Epoch 4/10\n",
      "2106/2106 [==============================] - 119s 56ms/step - loss: 0.1626 - acc: 0.9411\n",
      "Epoch 5/10\n",
      "2106/2106 [==============================] - 119s 56ms/step - loss: 0.1077 - acc: 0.9658\n",
      "Epoch 6/10\n",
      "2106/2106 [==============================] - 139s 66ms/step - loss: 0.0609 - acc: 0.9834\n",
      "Epoch 7/10\n",
      "2106/2106 [==============================] - 120s 57ms/step - loss: 0.0361 - acc: 0.9910\n",
      "Epoch 8/10\n",
      "2106/2106 [==============================] - 114s 54ms/step - loss: 0.0293 - acc: 0.9929\n",
      "Epoch 9/10\n",
      "2106/2106 [==============================] - 107s 51ms/step - loss: 0.0346 - acc: 0.9915\n",
      "Epoch 10/10\n",
      "2106/2106 [==============================] - 107s 51ms/step - loss: 0.0226 - acc: 0.9934\n"
     ]
    }
   ],
   "source": [
    "model.fit(X_train, Y_train, batch_size=32, epochs =10, verbose=1)\n",
    "score = model.evaluate(X_test, Y_test, verbose=0)"
   ]
  },
  {
   "cell_type": "code",
   "execution_count": 30,
   "metadata": {},
   "outputs": [
    {
     "name": "stdout",
     "output_type": "stream",
     "text": [
      "Saved model to disk\n"
     ]
    }
   ],
   "source": [
    "# serialize model to JSON\n",
    "model_json = model.to_json()\n",
    "with open(\"BPO100_model.json\", \"w\") as json_file:\n",
    "    json_file.write(model_json)\n",
    "# serialize weights to HDF5\n",
    "model.save_weights(\"BPO100_model.h5\")\n",
    "print(\"Saved model to disk\")\n"
   ]
  }
 ],
 "metadata": {
  "kernelspec": {
   "display_name": "Python 3",
   "language": "python",
   "name": "python3"
  },
  "language_info": {
   "codemirror_mode": {
    "name": "ipython",
    "version": 3
   },
   "file_extension": ".py",
   "mimetype": "text/x-python",
   "name": "python",
   "nbconvert_exporter": "python",
   "pygments_lexer": "ipython3",
   "version": "3.6.4"
  }
 },
 "nbformat": 4,
 "nbformat_minor": 2
}
